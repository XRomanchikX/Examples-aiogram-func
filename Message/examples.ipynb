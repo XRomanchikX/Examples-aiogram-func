{
 "cells": [
  {
   "cell_type": "code",
   "execution_count": 1,
   "metadata": {},
   "outputs": [],
   "source": [
    "### ОСНОВНЫЕ ИМПОРТЫ ###\n",
    "from aiogram import types\n",
    "from aiogram.fsm.context import FSMContext\n",
    "from aiogram.filters import Command\n",
    "from aiogram.types import Update"
   ]
  },
  {
   "cell_type": "code",
   "execution_count": 4,
   "metadata": {},
   "outputs": [],
   "source": [
    "### ДЕФОЛТНОЕ ОТПРАВЛЕНИЕ СООБЩЕНИЯ В ФУНКЦИИ ###\n",
    "# dp.message.register(example, Command(commands=[\"command_name\"]))           # with use command\n",
    "# dp.message.register(example, F.data == \"text\")                             # with use any text\n",
    "\n",
    "### НЕ ИСПОЛЬЗУЯ КЛАВИАТУРУ ###\n",
    "\n",
    "async def example(message: types.Message, state: FSMContext):\n",
    "    await message.answer(f\" ТЕКСТ \")\n",
    "\n",
    "### ИСПОЛЬЗУЯ КЛАВИАТУРУ ###\n",
    "\n",
    "async def example(message: types.Message, state: FSMContext):\n",
    "    await message.answer(f\" ТЕКСТ \", reply_markup=example_keyboard())    "
   ]
  },
  {
   "cell_type": "code",
   "execution_count": null,
   "metadata": {},
   "outputs": [],
   "source": [
    "### STATES ###\n",
    "\n",
    "### НЕ ИСПОЛЬЗУЯ КЛАВИАТУРУ ###\n",
    "\n",
    "# dp.message.register(example, Command(commands=[\"command_name\"]))           # with use command\n",
    "# dp.message.register(example, F.data == \"text\")                             # with use any text\n",
    "\n",
    "async def example(message: types.Message, state: FSMContext):\n",
    "    await message.answer(f\" ТЕКСТ \")\n",
    "    await state.set_state(Ex.ample)\n",
    "\n",
    "#dp.message.register(example, Ex.ample)\n",
    "\n",
    "async def example(message: types.Message, state: FSMContext):\n",
    "    await message.answer(f\" ТЕКСТ2 \")\n",
    "\n",
    "### ИСПОЛЬЗУЯ КЛАВИАТУРУ ###\n",
    "\n",
    "# dp.message.register(example, Command(commands=[\"command_name\"]))           # with use command\n",
    "# dp.message.register(example, F.data == \"text\")                             # with use any text\n",
    "\n",
    "async def example(message: types.Message, state: FSMContext):\n",
    "    await message.answer(f\" ТЕКСТ \", reply_markup=example_keyboard()) \n",
    "\n",
    "#dp.message.register(example, Ex.ample)\n",
    "\n",
    "async def example(message: types.Message, state: FSMContext):\n",
    "    await message.answer(f\" ТЕКСТ2 \", reply_markup=example_keyboard()) "
   ]
  }
 ],
 "metadata": {
  "kernelspec": {
   "display_name": "Python 3",
   "language": "python",
   "name": "python3"
  },
  "language_info": {
   "codemirror_mode": {
    "name": "ipython",
    "version": 3
   },
   "file_extension": ".py",
   "mimetype": "text/x-python",
   "name": "python",
   "nbconvert_exporter": "python",
   "pygments_lexer": "ipython3",
   "version": "3.11.6"
  }
 },
 "nbformat": 4,
 "nbformat_minor": 2
}
