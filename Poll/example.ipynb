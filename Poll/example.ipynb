{
 "cells": [
  {
   "cell_type": "code",
   "execution_count": 2,
   "metadata": {},
   "outputs": [],
   "source": [
    "### ОСНОВНЫЕ ИМПОРТЫ ###\n",
    "from aiogram import types, Router, F\n",
    "from aiogram.fsm.context import FSMContext\n",
    "from aiogram.filters import Command\n",
    "from aiogram.types import Update\n",
    "### ИНИЦИАЛИЗАЦИЯ РОУТЕРА ###\n",
    "router = Router()"
   ]
  },
  {
   "cell_type": "code",
   "execution_count": 5,
   "metadata": {},
   "outputs": [],
   "source": [
    "### САМ ОПРОСНИК ###\n",
    "# dp.message.register(example_poll, Command(commands=[\"command_name\"]))           # with use command\n",
    "# dp.message.register(example_poll, F.data == \"text\")                             # with use any text\n",
    "# dp.callback_query.register(example_poll, F.data.startswith(\"text_\"))            # with use callback_query с нескольким вариантом выбора\n",
    "# dp.callback_query.register(example_poll, F.data == \"text\")                      # with use callback_query с одним вариантом выбора\n",
    "\n",
    "\n",
    "# @router.message(F.data == \" text \")\n",
    "# @router.message(Command(\" command_name \"))\n",
    "# @router.callback_query(F.data == \" text \")\n",
    "# @router.callback_query(F.data.startswith == (\" text_ \"))\n",
    "\n",
    "@router.message(Command(\" command_name \"))\n",
    "async def example_poll(message: types.Message, state: FSMContext):\n",
    "    await message.answer_poll(question=\" ЗАГОЛОВОК \",\n",
    "                              options=[\n",
    "                                  \" Вариант 1 \",\n",
    "                                  \" Вариант 2 \",\n",
    "                                  \" Вариант 3 \",\n",
    "                                  \" Вариант 4 \"],\n",
    "                              allows_multiple_answers=True,\n",
    "                              reply_markup = example_keyboard())\n",
    "\n",
    "@router.callback_query(F.data == \" text \")\n",
    "async def example_poll_result(call: types.CallbackQuery, state: FSMContext,event_update: Update ):\n",
    "    tpm_list = event_update.callback_query.message.poll.options # РЕЗУЛЬТАТЫ ОПРОСА #\n",
    "    result = [i.voter_count for i in tpm_list] \n",
    "    result1 = [i.text for i in tpm_list if i.voter_count == 1]\n",
    "    \n",
    "    if 1 in result:\n",
    "        print(result1)\n",
    "    if 1 not in result:\n",
    "        print(result)\n",
    "    "
   ]
  }
 ],
 "metadata": {
  "kernelspec": {
   "display_name": "Python 3",
   "language": "python",
   "name": "python3"
  },
  "language_info": {
   "codemirror_mode": {
    "name": "ipython",
    "version": 3
   },
   "file_extension": ".py",
   "mimetype": "text/x-python",
   "name": "python",
   "nbconvert_exporter": "python",
   "pygments_lexer": "ipython3",
   "version": "3.11.6"
  }
 },
 "nbformat": 4,
 "nbformat_minor": 2
}
