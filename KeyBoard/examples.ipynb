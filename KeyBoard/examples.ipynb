{
 "cells": [
  {
   "cell_type": "code",
   "execution_count": 1,
   "metadata": {},
   "outputs": [],
   "source": [
    "from aiogram.utils.keyboard import InlineKeyboardBuilder, InlineKeyboardButton, ReplyKeyboardBuilder, KeyboardButton, ReplyKeyboardMarkup ### Default imports ###"
   ]
  },
  {
   "cell_type": "code",
   "execution_count": 2,
   "metadata": {},
   "outputs": [],
   "source": [
    "def example_inline_keyboard(): # Inline keyboard\n",
    "   keyboard = InlineKeyboardBuilder()\n",
    "   keyboard.add(InlineKeyboardButton(text='example1', callback_data='example1')) # 1 кнопка\n",
    "   keyboard.add(InlineKeyboardButton(text='example2', callback_data='example2')) # 2 кнопка\n",
    "   keyboard.add(InlineKeyboardButton(text='example3', callback_data='example3')) # 3 кнопка\n",
    "   keyboard.add(InlineKeyboardButton(text='example4', callback_data='example4')) # 4 кнопка\n",
    "   keyboard.adjust(1) # Кнопок в ряд\n",
    "   return keyboard.as_markup()"
   ]
  },
  {
   "cell_type": "code",
   "execution_count": 3,
   "metadata": {},
   "outputs": [],
   "source": [
    "def example_reply_keyboard(): # Reply keyboard \n",
    "    keyboard = ReplyKeyboardMarkup(keyboard=[\n",
    "        [\n",
    "            KeyboardButton(text='example1') # 1 кнопка\n",
    "        ],\n",
    "        [\n",
    "            KeyboardButton(text='example2') # 2 кнопка\n",
    "        ],\n",
    "        [\n",
    "            KeyboardButton(text='example3') # 3 кнопка\n",
    "        ],\n",
    "        [\n",
    "            KeyboardButton(text='example4') # 4 кнопка\n",
    "        ],\n",
    "        [\n",
    "            KeyboardButton(text='example5') # 5 кнопка\n",
    "        ],\n",
    "        [\n",
    "            KeyboardButton(text='example6') # 6 кнопка\n",
    "        ]\n",
    "    ], resize_keyboard=True)\n",
    "    return keyboard\n"
   ]
  }
 ],
 "metadata": {
  "kernelspec": {
   "display_name": "Python 3",
   "language": "python",
   "name": "python3"
  },
  "language_info": {
   "codemirror_mode": {
    "name": "ipython",
    "version": 3
   },
   "file_extension": ".py",
   "mimetype": "text/x-python",
   "name": "python",
   "nbconvert_exporter": "python",
   "pygments_lexer": "ipython3",
   "version": "3.11.6"
  }
 },
 "nbformat": 4,
 "nbformat_minor": 2
}
